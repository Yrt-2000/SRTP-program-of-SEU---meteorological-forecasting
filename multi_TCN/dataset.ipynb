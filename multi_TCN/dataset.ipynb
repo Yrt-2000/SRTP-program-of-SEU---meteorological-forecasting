{
 "cells": [
  {
   "cell_type": "code",
   "execution_count": 7,
   "metadata": {},
   "outputs": [],
   "source": [
    "import pandas as pd\n",
    "import numpy as np\n",
    "# import matplotlib.pyplot as plt\n",
    "import warnings\n",
    "warnings.filterwarnings(\"ignore\")"
   ]
  },
  {
   "cell_type": "code",
   "execution_count": 8,
   "metadata": {},
   "outputs": [],
   "source": [
    "datapath = \"all_ALTURAS MUNICIPAL AIRPORT CA US_110101-201107.csv\"\n",
    "name_maxtempe = 'DailyMaximumDryBulbTemperature'\n",
    "name_mintempe = 'DailyMinimumDryBulbTemperature'\n",
    "name_precip = 'DailyPrecipitation'\n",
    "name_winddir = 'DailyPeakWindDirection'\n",
    "name_windspeed = 'DailyPeakWindSpeed'"
   ]
  },
  {
   "cell_type": "code",
   "execution_count": 9,
   "metadata": {},
   "outputs": [],
   "source": [
    "df1 = pd.read_csv(datapath)\n",
    "df1['Datetime'] = pd.to_datetime(df1.DATE, format='%Y/%m/%d')\n",
    "df = pd.DataFrame()\n",
    "df['Datetime'] = pd.date_range(start='2011/1/1',end='2020/11/4')\n"
   ]
  },
  {
   "cell_type": "code",
   "execution_count": 10,
   "metadata": {},
   "outputs": [],
   "source": [
    "for predictname in [name_maxtempe,name_mintempe,name_precip,name_winddir,name_windspeed]:\n",
    "    df[predictname]=np.nan\n",
    "    for i in df1.index:\n",
    "        date,idx = df1['Datetime'][i],i\n",
    "        # print(\"index=\",i)\n",
    "        while df['Datetime'][idx]!=date:\n",
    "            idx=idx+1\n",
    "        df[predictname][idx]=df1[predictname][i]\n",
    "    df[predictname] = df[predictname].interpolate(method='linear')  # 插值补全\n"
   ]
  },
  {
   "cell_type": "code",
   "execution_count": 11,
   "metadata": {},
   "outputs": [],
   "source": [
    "# sep = int(df.shape[0]*0.8)\n",
    "maxtempe = df[['Datetime',name_maxtempe]]\n",
    "mintempe = df[['Datetime',name_mintempe]]\n",
    "precip = df[['Datetime',name_precip]]\n",
    "winddir = df[['Datetime',name_winddir]]\n",
    "windspeed = df[['Datetime',name_windspeed]]\n"
   ]
  },
  {
   "cell_type": "code",
   "execution_count": 12,
   "metadata": {},
   "outputs": [],
   "source": [
    "maxtempe.to_csv('maxtempe.csv',index = False)\n",
    "mintempe.to_csv('mintempe.csv',index = False)\n",
    "precip.to_csv('precip.csv',index = False)\n",
    "winddir.to_csv('winddir.csv',index = False)\n",
    "windspeed.to_csv('windspeed.csv',index = False)"
   ]
  },
  {
   "cell_type": "code",
   "execution_count": null,
   "metadata": {},
   "outputs": [],
   "source": []
  }
 ],
 "metadata": {
  "kernelspec": {
   "display_name": "Python 3",
   "language": "python",
   "name": "python3"
  },
  "language_info": {
   "codemirror_mode": {
    "name": "ipython",
    "version": 3
   },
   "file_extension": ".py",
   "mimetype": "text/x-python",
   "name": "python",
   "nbconvert_exporter": "python",
   "pygments_lexer": "ipython3",
   "version": "3.8.3"
  }
 },
 "nbformat": 4,
 "nbformat_minor": 4
}
