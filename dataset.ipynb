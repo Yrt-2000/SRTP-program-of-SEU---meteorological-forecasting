{
 "cells": [
  {
   "cell_type": "code",
   "execution_count": 40,
   "metadata": {},
   "outputs": [],
   "source": [
    "import pandas as pd\n",
    "import numpy as np\n",
    "# import matplotlib.pyplot as plt\n",
    "import warnings\n",
    "warnings.filterwarnings(\"ignore\")"
   ]
  },
  {
   "cell_type": "code",
   "execution_count": 41,
   "metadata": {},
   "outputs": [],
   "source": [
    "datapath = \"all_ALTURAS MUNICIPAL AIRPORT CA US_110101-201107.csv\"\n",
    "predictname = 'DailyMaximumDryBulbTemperature'\n",
    "# predictname可以修改"
   ]
  },
  {
   "cell_type": "code",
   "execution_count": 42,
   "metadata": {},
   "outputs": [],
   "source": [
    "df1 = pd.read_csv(datapath)\n",
    "df1['Datetime'] = pd.to_datetime(df1.DATE, format='%Y/%m/%d')\n",
    "df = pd.DataFrame()\n",
    "df['Datetime'] = pd.date_range(start='2011/1/1',end='2020/11/4')\n",
    "df[predictname] = np.nan\n"
   ]
  },
  {
   "cell_type": "code",
   "execution_count": 44,
   "metadata": {},
   "outputs": [],
   "source": [
    "for i in df1.index:\n",
    "    date,idx = df1['Datetime'][i],i\n",
    "    # print(\"index=\",i)\n",
    "    while df['Datetime'][idx]!=date:\n",
    "        idx=idx+1\n",
    "    df[predictname][idx]=df1[predictname][i]\n",
    "\n",
    "# df[df==0]=np.nan  # 将0值替换成nan\n",
    "\n",
    "df[predictname] = df[predictname].interpolate(method='linear')  # 插值补全\n"
   ]
  },
  {
   "cell_type": "code",
   "execution_count": 45,
   "metadata": {},
   "outputs": [],
   "source": [
    "sep = int(df.shape[0]*0.8)\n",
    "train = df[['Datetime',predictname]][0:sep]\n",
    "test = df[['Datetime',predictname]][sep:]\n"
   ]
  },
  {
   "cell_type": "code",
   "execution_count": 46,
   "metadata": {},
   "outputs": [],
   "source": [
    "train.to_csv('Train.csv',index = False)\n",
    "test.to_csv('Test.csv',index = False)"
   ]
  },
  {
   "cell_type": "code",
   "execution_count": null,
   "metadata": {},
   "outputs": [],
   "source": []
  }
 ],
 "metadata": {
  "kernelspec": {
   "display_name": "Python 3",
   "language": "python",
   "name": "python3"
  },
  "language_info": {
   "codemirror_mode": {
    "name": "ipython",
    "version": 3
   },
   "file_extension": ".py",
   "mimetype": "text/x-python",
   "name": "python",
   "nbconvert_exporter": "python",
   "pygments_lexer": "ipython3",
   "version": "3.8.3"
  }
 },
 "nbformat": 4,
 "nbformat_minor": 4
}
